{
 "cells": [
  {
   "cell_type": "code",
   "execution_count": 1,
   "metadata": {
    "collapsed": false
   },
   "outputs": [
    {
     "name": "stderr",
     "output_type": "stream",
     "text": [
      "WARNING:RockPy:Please install module pylatex for latex output.\n",
      "2015-11-18 16:10:32,896: DEBUG      RockPy3              got revision b'cdacb7c-dirty' from git\n",
      "DEBUG:RockPy3:got revision b'cdacb7c-dirty' from git\n",
      "2015-11-18 16:10:32,897: DEBUG      RockPy3              git revision b'cdacb7c-dirty' written to _rp_version.py\n",
      "DEBUG:RockPy3:git revision b'cdacb7c-dirty' written to _rp_version.py\n",
      "2015-11-18 16:10:32,898: INFO       RockPy3              RockPy3 rocks! Git repository version: b'cdacb7c-dirty'\n",
      "INFO:RockPy3:RockPy3 rocks! Git repository version: b'cdacb7c-dirty'\n",
      "2015-11-18 16:10:32,899: INFO       RockPy3              RockPy3 test_data_path: /Users/mike/GitHub/highT_af/RockPy3/Tutorials/test_data\n",
      "INFO:RockPy3:RockPy3 test_data_path: /Users/mike/GitHub/highT_af/RockPy3/Tutorials/test_data\n",
      "2015-11-18 16:10:32,900: INFO       RockPy3              RockPy3 installation_directory: /Users/mike/Google Drive/__code/RockPy3\n",
      "INFO:RockPy3:RockPy3 installation_directory: /Users/mike/Google Drive/__code/RockPy3\n",
      "2015-11-18 16:10:33,110: INFO       RockPy3              using matplotlib  : version 1.4.3\n",
      "INFO:RockPy3:using matplotlib  : version 1.4.3\n",
      "2015-11-18 16:10:33,111: INFO       RockPy3              using numpy       : version 1.10.1\n",
      "INFO:RockPy3:using numpy       : version 1.10.1\n",
      "2015-11-18 16:10:33,112: INFO       RockPy3              using scipy       : version 0.16.0\n",
      "INFO:RockPy3:using scipy       : version 0.16.0\n",
      "2015-11-18 16:10:33,113: INFO       RockPy3              using lmfit       : version 0.9.1\n",
      "INFO:RockPy3:using lmfit       : version 0.9.1\n",
      "2015-11-18 16:10:33,113: INFO       RockPy3              using pint        : version 0.6\n",
      "INFO:RockPy3:using pint        : version 0.6\n",
      "2015-11-18 16:10:33,114: INFO       RockPy3              using decorator   : version 4.0.4\n",
      "INFO:RockPy3:using decorator   : version 4.0.4\n",
      "2015-11-18 16:10:33,115: INFO       RockPy3              using tabulate    : version 0.7.5\n",
      "INFO:RockPy3:using tabulate    : version 0.7.5\n",
      "2015-11-18 16:10:33,116: INFO       RockPy3              using basemap     : version 1.0.7\n",
      "INFO:RockPy3:using basemap     : version 1.0.7\n",
      "2015-11-18 16:10:33,117: INFO       RockPy3              CREATING study << MasterStudy >>\n",
      "INFO:RockPy3:CREATING study << MasterStudy >>\n",
      "2015-11-18 16:10:33,118: DEBUG      RockPy3              IMPLEMENTED MEASUREMENT TYPES: \tFTYPES\n",
      "DEBUG:RockPy3:IMPLEMENTED MEASUREMENT TYPES: \tFTYPES\n",
      "2015-11-18 16:10:33,120: DEBUG      RockPy3              \tacquisition               : \tsushibar\n",
      "DEBUG:RockPy3:\tacquisition               : \tsushibar\n",
      "2015-11-18 16:10:33,122: DEBUG      RockPy3              \tafdemagnetization         : \tcryomag, sushibar\n",
      "DEBUG:RockPy3:\tafdemagnetization         : \tcryomag, sushibar\n",
      "2015-11-18 16:10:33,123: DEBUG      RockPy3              \tbedding                   : \tgeneric\n",
      "DEBUG:RockPy3:\tbedding                   : \tgeneric\n",
      "2015-11-18 16:10:33,124: DEBUG      RockPy3              \tdemagnetization           : \tcryomag, sushibar\n",
      "DEBUG:RockPy3:\tdemagnetization           : \tcryomag, sushibar\n",
      "2015-11-18 16:10:33,125: DEBUG      RockPy3              \tdiameter                  : \tgeneric\n",
      "DEBUG:RockPy3:\tdiameter                  : \tgeneric\n",
      "2015-11-18 16:10:33,126: DEBUG      RockPy3              \theight                    : \tgeneric\n",
      "DEBUG:RockPy3:\theight                    : \tgeneric\n",
      "2015-11-18 16:10:33,127: DEBUG      RockPy3              \thysteresis                : \tmpms, vsm\n",
      "DEBUG:RockPy3:\thysteresis                : \tmpms, vsm\n",
      "2015-11-18 16:10:33,128: DEBUG      RockPy3              \tlength                    : \tgeneric\n",
      "DEBUG:RockPy3:\tlength                    : \tgeneric\n",
      "2015-11-18 16:10:33,129: DEBUG      RockPy3              \tlocationgeo               : \tgeneric\n",
      "DEBUG:RockPy3:\tlocationgeo               : \tgeneric\n",
      "2015-11-18 16:10:33,130: DEBUG      RockPy3              \tmass                      : \tgeneric\n",
      "DEBUG:RockPy3:\tmass                      : \tgeneric\n",
      "2015-11-18 16:10:33,131: DEBUG      RockPy3              \torientationgeo            : \tgeneric\n",
      "DEBUG:RockPy3:\torientationgeo            : \tgeneric\n",
      "2015-11-18 16:10:33,132: DEBUG      RockPy3              \tpaleointensity            : \t\n",
      "DEBUG:RockPy3:\tpaleointensity            : \t\n",
      "2015-11-18 16:10:33,132: DEBUG      RockPy3              \tparameter                 : \t\n",
      "DEBUG:RockPy3:\tparameter                 : \t\n",
      "2015-11-18 16:10:33,133: DEBUG      RockPy3              \tparm_acquisition          : \tsushibar\n",
      "DEBUG:RockPy3:\tparm_acquisition          : \tsushibar\n",
      "2015-11-18 16:10:33,134: DEBUG      RockPy3              \tthermaldemagnetization    : \tcryomag, sushibar\n",
      "DEBUG:RockPy3:\tthermaldemagnetization    : \tcryomag, sushibar\n",
      "2015-11-18 16:10:33,135: DEBUG      RockPy3              \tthermocurve               : \tmpms\n",
      "DEBUG:RockPy3:\tthermocurve               : \tmpms\n",
      "2015-11-18 16:10:33,136: DEBUG      RockPy3              \tvolume                    : \t\n",
      "DEBUG:RockPy3:\tvolume                    : \t\n",
      "2015-11-18 16:10:33,137: DEBUG      RockPy3              READING FTYPE/MTYPE abbreviations\n",
      "DEBUG:RockPy3:READING FTYPE/MTYPE abbreviations\n"
     ]
    }
   ],
   "source": [
    "import RockPy3\n",
    "from RockPy3.Packages.Mag.io.spinner import Jr6\n",
    "import numpy as np\n",
    "\n",
    "    #print(np.genfromtxt('/Users/mike/GitHub/highT_af/High_T_ARM_hTARMACQUISITION_50uT.jr6.txt', dtype=None, delimiter=(10, 9, 6, 5, 6)), autostrip=True)\n",
    "#data = Jr6(dfile='/Users/mike/GitHub/highT_af/High_T_ARM_hTARMACQUISITION_50uT.jr6.txt', sample_name='VA')\n",
    "# print(data)"
   ]
  },
  {
   "cell_type": "code",
   "execution_count": 2,
   "metadata": {
    "collapsed": false
   },
   "outputs": [
    {
     "name": "stdout",
     "output_type": "stream",
     "text": [
      "1000 loops, best of 3: 1.32 ms per loop\n"
     ]
    }
   ],
   "source": [
    "%timeit np.genfromtxt('/Users/mike/GitHub/highT_af/High_T_ARM_hTARMACQUISITION_50uT.jr6.txt', dtype=None, delimiter=(10, 9, 6, 5, 6))"
   ]
  },
  {
   "cell_type": "code",
   "execution_count": 3,
   "metadata": {
    "collapsed": false
   },
   "outputs": [
    {
     "name": "stdout",
     "output_type": "stream",
     "text": [
      "1000 loops, best of 3: 343 µs per loop\n"
     ]
    }
   ],
   "source": [
    "%timeit Jr6(dfile='/Users/mike/GitHub/highT_af/High_T_ARM_hTARMACQUISITION_50uT.jr6.txt', sample_name='VA')"
   ]
  },
  {
   "cell_type": "code",
   "execution_count": null,
   "metadata": {
    "collapsed": true
   },
   "outputs": [],
   "source": []
  }
 ],
 "metadata": {
  "kernelspec": {
   "display_name": "Python 3",
   "language": "python",
   "name": "python3"
  },
  "language_info": {
   "codemirror_mode": {
    "name": "ipython",
    "version": 3
   },
   "file_extension": ".py",
   "mimetype": "text/x-python",
   "name": "python",
   "nbconvert_exporter": "python",
   "pygments_lexer": "ipython3",
   "version": "3.4.3"
  }
 },
 "nbformat": 4,
 "nbformat_minor": 0
}
